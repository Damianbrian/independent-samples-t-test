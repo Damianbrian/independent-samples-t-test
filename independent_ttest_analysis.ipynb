{
 "cells": [
  {
   "cell_type": "code",
   "execution_count": 6,
   "id": "2b48f038-3bb0-4fb3-b561-08cf9f8ba94e",
   "metadata": {},
   "outputs": [],
   "source": [
    "import pandas as pd\n",
    "import numpy as np\n",
    "\n",
    "# --- Parameters ---\n",
    "rows = 6000\n",
    "cols = 14\n",
    "np.random.seed(42)\n",
    "\n",
    "# --- Generate Data ---\n",
    "data = {\n",
    "    \"Participant_ID\": range(1, rows + 1),\n",
    "    \"Group\": np.random.choice([\"A\", \"B\"], size=rows),\n",
    "    \"Pre_Test_Score\": np.random.normal(loc=70, scale=10, size=rows).round(1),\n",
    "    \"Post_Test_Score\": np.random.normal(loc=75, scale=10, size=rows).round(1),\n",
    "    \"Age\": np.random.randint(18, 60, size=rows),\n",
    "    \"Gender\": np.random.choice([\"Male\", \"Female\"], size=rows),\n",
    "    \"Education_Level\": np.random.choice([\"High School\", \"Bachelor\", \"Master\", \"PhD\"], size=rows),\n",
    "    \"Study_Hours\": np.random.normal(loc=15, scale=5, size=rows).round(1),\n",
    "    \"Attendance_Rate\": np.random.uniform(60, 100, size=rows).round(1),\n",
    "    \"Stress_Level\": np.random.randint(1, 11, size=rows),  # 1-10 scale\n",
    "    \"Satisfaction\": np.random.randint(1, 6, size=rows),   # 1-5 Likert scale\n",
    "    \"Region\": np.random.choice([\"North\", \"South\", \"East\", \"West\"], size=rows),\n",
    "    \"Income_Level\": np.random.choice([\"Low\", \"Medium\", \"High\"], size=rows),\n",
    "    \"Mentor_Experience\": np.random.randint(0, 20, size=rows)  # years\n",
    "}\n",
    "\n",
    "df = pd.DataFrame(data)\n",
    "\n"
   ]
  },
  {
   "cell_type": "code",
   "execution_count": 8,
   "id": "05b99619-1120-4999-a17a-080bf1645a95",
   "metadata": {},
   "outputs": [
    {
     "data": {
      "text/html": [
       "<div>\n",
       "<style scoped>\n",
       "    .dataframe tbody tr th:only-of-type {\n",
       "        vertical-align: middle;\n",
       "    }\n",
       "\n",
       "    .dataframe tbody tr th {\n",
       "        vertical-align: top;\n",
       "    }\n",
       "\n",
       "    .dataframe thead th {\n",
       "        text-align: right;\n",
       "    }\n",
       "</style>\n",
       "<table border=\"1\" class=\"dataframe\">\n",
       "  <thead>\n",
       "    <tr style=\"text-align: right;\">\n",
       "      <th></th>\n",
       "      <th>Participant_ID</th>\n",
       "      <th>Group</th>\n",
       "      <th>Pre_Test_Score</th>\n",
       "      <th>Post_Test_Score</th>\n",
       "      <th>Age</th>\n",
       "      <th>Gender</th>\n",
       "      <th>Education_Level</th>\n",
       "      <th>Study_Hours</th>\n",
       "      <th>Attendance_Rate</th>\n",
       "      <th>Stress_Level</th>\n",
       "      <th>Satisfaction</th>\n",
       "      <th>Region</th>\n",
       "      <th>Income_Level</th>\n",
       "      <th>Mentor_Experience</th>\n",
       "    </tr>\n",
       "  </thead>\n",
       "  <tbody>\n",
       "    <tr>\n",
       "      <th>0</th>\n",
       "      <td>1</td>\n",
       "      <td>A</td>\n",
       "      <td>80.6</td>\n",
       "      <td>59.9</td>\n",
       "      <td>39</td>\n",
       "      <td>Female</td>\n",
       "      <td>PhD</td>\n",
       "      <td>6.5</td>\n",
       "      <td>80.7</td>\n",
       "      <td>7</td>\n",
       "      <td>4</td>\n",
       "      <td>West</td>\n",
       "      <td>Medium</td>\n",
       "      <td>12</td>\n",
       "    </tr>\n",
       "    <tr>\n",
       "      <th>1</th>\n",
       "      <td>2</td>\n",
       "      <td>B</td>\n",
       "      <td>76.2</td>\n",
       "      <td>69.4</td>\n",
       "      <td>38</td>\n",
       "      <td>Male</td>\n",
       "      <td>High School</td>\n",
       "      <td>15.7</td>\n",
       "      <td>73.1</td>\n",
       "      <td>9</td>\n",
       "      <td>2</td>\n",
       "      <td>South</td>\n",
       "      <td>Medium</td>\n",
       "      <td>6</td>\n",
       "    </tr>\n",
       "    <tr>\n",
       "      <th>2</th>\n",
       "      <td>3</td>\n",
       "      <td>A</td>\n",
       "      <td>76.8</td>\n",
       "      <td>79.3</td>\n",
       "      <td>46</td>\n",
       "      <td>Male</td>\n",
       "      <td>Master</td>\n",
       "      <td>9.5</td>\n",
       "      <td>86.8</td>\n",
       "      <td>7</td>\n",
       "      <td>1</td>\n",
       "      <td>South</td>\n",
       "      <td>High</td>\n",
       "      <td>10</td>\n",
       "    </tr>\n",
       "    <tr>\n",
       "      <th>3</th>\n",
       "      <td>4</td>\n",
       "      <td>A</td>\n",
       "      <td>56.3</td>\n",
       "      <td>82.7</td>\n",
       "      <td>56</td>\n",
       "      <td>Female</td>\n",
       "      <td>Bachelor</td>\n",
       "      <td>22.2</td>\n",
       "      <td>93.5</td>\n",
       "      <td>10</td>\n",
       "      <td>5</td>\n",
       "      <td>North</td>\n",
       "      <td>Low</td>\n",
       "      <td>16</td>\n",
       "    </tr>\n",
       "    <tr>\n",
       "      <th>4</th>\n",
       "      <td>5</td>\n",
       "      <td>A</td>\n",
       "      <td>82.1</td>\n",
       "      <td>96.9</td>\n",
       "      <td>22</td>\n",
       "      <td>Female</td>\n",
       "      <td>Bachelor</td>\n",
       "      <td>28.5</td>\n",
       "      <td>66.2</td>\n",
       "      <td>4</td>\n",
       "      <td>2</td>\n",
       "      <td>North</td>\n",
       "      <td>Medium</td>\n",
       "      <td>0</td>\n",
       "    </tr>\n",
       "  </tbody>\n",
       "</table>\n",
       "</div>"
      ],
      "text/plain": [
       "   Participant_ID Group  Pre_Test_Score  Post_Test_Score  Age  Gender  \\\n",
       "0               1     A            80.6             59.9   39  Female   \n",
       "1               2     B            76.2             69.4   38    Male   \n",
       "2               3     A            76.8             79.3   46    Male   \n",
       "3               4     A            56.3             82.7   56  Female   \n",
       "4               5     A            82.1             96.9   22  Female   \n",
       "\n",
       "  Education_Level  Study_Hours  Attendance_Rate  Stress_Level  Satisfaction  \\\n",
       "0             PhD          6.5             80.7             7             4   \n",
       "1     High School         15.7             73.1             9             2   \n",
       "2          Master          9.5             86.8             7             1   \n",
       "3        Bachelor         22.2             93.5            10             5   \n",
       "4        Bachelor         28.5             66.2             4             2   \n",
       "\n",
       "  Region Income_Level  Mentor_Experience  \n",
       "0   West       Medium                 12  \n",
       "1  South       Medium                  6  \n",
       "2  South         High                 10  \n",
       "3  North          Low                 16  \n",
       "4  North       Medium                  0  "
      ]
     },
     "execution_count": 8,
     "metadata": {},
     "output_type": "execute_result"
    }
   ],
   "source": [
    "df.head()"
   ]
  },
  {
   "cell_type": "code",
   "execution_count": 10,
   "id": "d75fd8fc-4b3d-44bd-8ff9-8fddc7ba3af8",
   "metadata": {},
   "outputs": [
    {
     "data": {
      "text/plain": [
       "'/Users/apple/Downloads/week18_mentorship_dataset.csv'"
      ]
     },
     "execution_count": 10,
     "metadata": {},
     "output_type": "execute_result"
    }
   ],
   "source": [
    "csv_path =\"/Users/apple/Downloads/week18_mentorship_dataset.csv\"\n",
    "df.to_csv(csv_path, index=False)\n",
    "csv_path"
   ]
  },
  {
   "cell_type": "markdown",
   "id": "b6d9d712-ca8a-439f-af67-45d17d57f96e",
   "metadata": {},
   "source": [
    "## A. Understanding the Dataset\n",
    "#### 1) Load data & initial checks"
   ]
  },
  {
   "cell_type": "code",
   "execution_count": 13,
   "id": "ea33384c-9cb4-435c-8ef2-e7e9b5170984",
   "metadata": {},
   "outputs": [
    {
     "name": "stdout",
     "output_type": "stream",
     "text": [
      "(6000, 14)\n",
      "<class 'pandas.core.frame.DataFrame'>\n",
      "RangeIndex: 6000 entries, 0 to 5999\n",
      "Data columns (total 14 columns):\n",
      " #   Column             Non-Null Count  Dtype  \n",
      "---  ------             --------------  -----  \n",
      " 0   Participant_ID     6000 non-null   int64  \n",
      " 1   Group              6000 non-null   object \n",
      " 2   Pre_Test_Score     6000 non-null   float64\n",
      " 3   Post_Test_Score    6000 non-null   float64\n",
      " 4   Age                6000 non-null   int64  \n",
      " 5   Gender             6000 non-null   object \n",
      " 6   Education_Level    6000 non-null   object \n",
      " 7   Study_Hours        6000 non-null   float64\n",
      " 8   Attendance_Rate    6000 non-null   float64\n",
      " 9   Stress_Level       6000 non-null   int64  \n",
      " 10  Satisfaction       6000 non-null   int64  \n",
      " 11  Region             6000 non-null   object \n",
      " 12  Income_Level       6000 non-null   object \n",
      " 13  Mentor_Experience  6000 non-null   int64  \n",
      "dtypes: float64(4), int64(5), object(5)\n",
      "memory usage: 656.4+ KB\n",
      "None\n",
      "Participant_ID       0\n",
      "Group                0\n",
      "Pre_Test_Score       0\n",
      "Post_Test_Score      0\n",
      "Age                  0\n",
      "Gender               0\n",
      "Education_Level      0\n",
      "Study_Hours          0\n",
      "Attendance_Rate      0\n",
      "Stress_Level         0\n",
      "Satisfaction         0\n",
      "Region               0\n",
      "Income_Level         0\n",
      "Mentor_Experience    0\n",
      "dtype: int64\n"
     ]
    }
   ],
   "source": [
    "# --- Load libraries ---\n",
    "import pandas as pd\n",
    "import numpy as np\n",
    "from scipy import stats\n",
    "import matplotlib.pyplot as plt\n",
    "from statsmodels.graphics.gofplots import qqplot\n",
    "\n",
    "# Quick inspect\n",
    "print(df.shape)        # rows, cols\n",
    "print(df.info())       # types + missingness\n",
    "print(df.isna().sum()) # missing values per column\n"
   ]
  },
  {
   "cell_type": "markdown",
   "id": "5da2ff1c-c3f9-483c-8692-b81514894ae7",
   "metadata": {},
   "source": [
    "#### 2) Descriptive stats (mean, sd) & group counts\n",
    "\n",
    "##### Data Familiarity: Descriptive Statistics\n",
    "Purpose: The goal here is to quickly summarize key features of the dataset, such as central tendency (mean) and variability (standard deviation), as well as to check the size of your groups.\n",
    "\n",
    "How to interpret:\n",
    "\n",
    "###### Mean and Standard Deviation: \n",
    "The mean shows the average score, while the standard deviation tells you how spread out the scores are from that average. A larger standard deviation indicates more variability.\n",
    "\n",
    "###### Value Counts: \n",
    "This gives you a simple count of how many participants are in each group, which is important for ensuring your groups are reasonably balanced."
   ]
  },
  {
   "cell_type": "code",
   "execution_count": 15,
   "id": "4383338d-7fae-41c9-aa7e-972640cb8c26",
   "metadata": {},
   "outputs": [
    {
     "name": "stdout",
     "output_type": "stream",
     "text": [
      "Overall Mean and Standard Deviation of Test Scores:\n",
      "       Pre_Test_Score  Post_Test_Score\n",
      "mean       69.806867        75.056617\n",
      "std        10.203589         9.893708\n",
      "\n",
      "Participant count per group:\n",
      " Group\n",
      "A    3018\n",
      "B    2982\n",
      "Name: count, dtype: int64\n"
     ]
    }
   ],
   "source": [
    "# Calculate descriptive statistics\n",
    "score_stats = df[['Pre_Test_Score', 'Post_Test_Score']].agg(['mean', 'std'])\n",
    "print(\"Overall Mean and Standard Deviation of Test Scores:\\n\", score_stats)\n",
    "\n",
    "# Count participants in each group\n",
    "group_counts = df['Group'].value_counts()\n",
    "print(\"\\nParticipant count per group:\\n\", group_counts)"
   ]
  },
  {
   "cell_type": "markdown",
   "id": "643b763e-ddc6-49e9-9bbc-5f6377995c4f",
   "metadata": {},
   "source": [
    "#### 3) Visual checks for Post_Test_Score by group"
   ]
  },
  {
   "cell_type": "code",
   "execution_count": 19,
   "id": "686ebfba-4387-417f-bc5e-5f9b505d725b",
   "metadata": {},
   "outputs": [
    {
     "data": {
      "image/png": "[encoded data removed]",
      "text/plain": [
       "<Figure size 640x480 with 1 Axes>"
      ]
     },
     "metadata": {},
     "output_type": "display_data"
    },
    {
     "data": {
      "text/plain": [
       "<Figure size 640x480 with 0 Axes>"
      ]
     },
     "metadata": {},
     "output_type": "display_data"
    },
    {
     "data": {
      "image/png": "[encoded data removed]",
      "text/plain": [
       "<Figure size 640x480 with 1 Axes>"
      ]
     },
     "metadata": {},
     "output_type": "display_data"
    },
    {
     "data": {
      "image/png": "[encoded data removed]",
      "text/plain": [
       "<Figure size 640x480 with 1 Axes>"
      ]
     },
     "metadata": {},
     "output_type": "display_data"
    },
    {
     "data": {
      "text/plain": [
       "<Figure size 640x480 with 0 Axes>"
      ]
     },
     "metadata": {},
     "output_type": "display_data"
    },
    {
     "data": {
      "image/png": "[encoded data removed]",
      "text/plain": [
       "<Figure size 640x480 with 1 Axes>"
      ]
     },
     "metadata": {},
     "output_type": "display_data"
    }
   ],
   "source": [
    "# Histogram + QQ plot for Group A and Group B\n",
    "for g in ['A','B']:\n",
    "    subset = df.loc[df['Group']==g, 'Post_Test_Score'].dropna()\n",
    "    plt.figure()\n",
    "    plt.hist(subset, bins=40)       # no color specified intentionally\n",
    "    plt.title(f\"Histogram Post_Test_Score — Group {g}\")\n",
    "    plt.xlabel('Post_Test_Score')\n",
    "    plt.ylabel('Count')\n",
    "\n",
    "    plt.figure()\n",
    "    qqplot(subset, line='45')\n",
    "    plt.title(f\"Q-Q plot Post_Test_Score — Group {g}\")\n"
   ]
  },
  {
   "cell_type": "markdown",
   "id": "012c60a1-21b3-4293-9b8f-5409a797d917",
   "metadata": {},
   "source": [
    "### Assumption Checking\n",
    "Purpose: Before conducting a t-test, you must check if your data meets its underlying assumptions. Failing to do so can lead to unreliable results. The two main assumptions for an independent-samples t-test are normality and homogeneity of variances.\n",
    "\n",
    "#### Normality Check (Shapiro-Wilk Test)\n",
    "Purpose: This test determines if your data is approximately normally distributed. It is recommended for smaller sample sizes (typically <50).\n",
    "\n",
    "##### Rejection Rule:\n",
    "The null hypothesis (H0) for the Shapiro-Wilk test is that the data is normally distributed.\n",
    "\n",
    "If the p-value is less than your significance level (typically 0.05), you reject H0 This means your data is not normally distributed.\n",
    "\n",
    "If the p-value is greater than 0.05, you fail to reject H0 This suggests your data is approximately normally distributed."
   ]
  },
  {
   "cell_type": "markdown",
   "id": "aaf79546-9f00-4aa0-b006-5c3e9d1d4698",
   "metadata": {},
   "source": [
    "#### 4) Normality tests "
   ]
  },
  {
   "cell_type": "code",
   "execution_count": 22,
   "id": "5d42e1b2-cab1-4d4f-bfa0-7aa83440dc21",
   "metadata": {},
   "outputs": [
    {
     "name": "stdout",
     "output_type": "stream",
     "text": [
      "Normality Check (Shapiro-Wilk Test):\n",
      "Group A: p-value=0.8163\n",
      "Group B: p-value=0.6564\n"
     ]
    }
   ],
   "source": [
    "from scipy import stats\n",
    "\n",
    "# Separate the groups\n",
    "group_a_post = df[df['Group'] == 'A']['Post_Test_Score']\n",
    "group_b_post = df[df['Group'] == 'B']['Post_Test_Score']\n",
    "\n",
    "# Perform Shapiro-Wilk test on each group\n",
    "shapiro_a = stats.shapiro(group_a_post)\n",
    "shapiro_b = stats.shapiro(group_b_post)\n",
    "\n",
    "print(\"Normality Check (Shapiro-Wilk Test):\")\n",
    "print(f\"Group A: p-value={shapiro_a.pvalue:.4f}\")\n",
    "print(f\"Group B: p-value={shapiro_b.pvalue:.4f}\")\n"
   ]
  },
  {
   "cell_type": "markdown",
   "id": "0b2f2303-66d3-47a5-92f0-31553e2609c7",
   "metadata": {},
   "source": [
    "Since The p_values for both Group A (0.8163) and B (0.6564) are greater than 0.05, we fail to reject the null hypothesis and we conclude that the data is approximately normal distributed."
   ]
  },
  {
   "cell_type": "markdown",
   "id": "acb3dc08-28b3-4fad-a497-a451b7c970f7",
   "metadata": {},
   "source": [
    "#### 5) Levene’s test for equal variances (Post_Test_Score)"
   ]
  },
  {
   "cell_type": "markdown",
   "id": "b569ea6c-12bd-47fa-b11b-ff942f2f3ce7",
   "metadata": {},
   "source": [
    "### Purpose:\n",
    "This test checks for the homogeneity of variances (whether the groups have roughly equal variances).\n",
    "\n",
    "### Rejection Rule:\n",
    "The null hypothesis (H0) for Levene's test is that the groups have equal variances.\n",
    "\n",
    "If the p-value is less than 0.05, you reject H0 This indicates that the variances are significantly different, and you should use the Welch's t-test (which does not assume equal variances).\n",
    "\n",
    "If the p-value is greater than 0.05, you fail to reject H0 You can assume equal variances and use the standard independent-samples t-test.\n",
    "\n"
   ]
  },
  {
   "cell_type": "code",
   "execution_count": 26,
   "id": "c3bb6296-8728-456b-ae62-51c1effb46bb",
   "metadata": {},
   "outputs": [
    {
     "name": "stdout",
     "output_type": "stream",
     "text": [
      "\n",
      "Equal Variance Check (Levene's Test):\n",
      "p-value=0.6974\n"
     ]
    }
   ],
   "source": [
    "# Perform Levene's test\n",
    "levene_test = stats.levene(group_a_post, group_b_post)\n",
    "\n",
    "print(\"\\nEqual Variance Check (Levene's Test):\")\n",
    "print(f\"p-value={levene_test.pvalue:.4f}\")"
   ]
  },
  {
   "cell_type": "markdown",
   "id": "5e66b71a-252a-4be6-916f-ccf7f4ee8772",
   "metadata": {},
   "source": [
    "The p-value is 0.6974 which is geater than 0.05, so we fail to reject the null hypothesis, and we therefore conclude that the data have equal variance and therefore we can use standard independent sample t-test"
   ]
  },
  {
   "cell_type": "markdown",
   "id": "d8e85efe-c448-4744-847e-3be927c023c3",
   "metadata": {},
   "source": [
    "## B. Independent-Samples t-Test (Core Objective)\n",
    "This is the core objective of your analysis, designed to compare the means of two independent groups.\n",
    "\n",
    "Primary Hypothesis\n",
    "Null Hypothesis (H0): There is no difference in the mean Post_Test_Score between Group A and Group B.\n",
    "\n",
    "Alternative Hypothesis (H1): There is a difference in the mean Post_Test_Score between the two groups.\n",
    "\n",
    "#### Running the Test and Interpreting Results\n",
    "Purpose: The t-test determines if the observed difference in group means is statistically significant, or if it could have happened by chance.\n",
    "\n",
    "#### How to interpret:\n",
    "\n",
    "##### t-statistic:\n",
    "A measure of the size of the difference relative to the variability in your sample data. A larger absolute value of t-statistic suggests a larger difference.\n",
    "\n",
    "##### p-value:\n",
    "The probability of observing a difference as large as the one you found if the null hypothesis were true.\n",
    "\n",
    "##### Rejection Rule:\n",
    "If the p-value is less than 0.05, you reject the null hypothesis. This provides strong evidence that a significant difference exists between the two groups.\n",
    "\n",
    "##### Degrees of Freedom (df):\n",
    "This value is related to the sample size and is used to find the critical value for the test.\n",
    "\n",
    "Cohen's d (Effect Size): Measures the magnitude of the difference between the group means.\n",
    "\n",
    "0.2 is a small effect.\n",
    "\n",
    "0.5 is a medium effect.\n",
    "\n",
    "0.8 is a large effect.\n",
    "\n"
   ]
  },
  {
   "cell_type": "markdown",
   "id": "c72b601f-08a9-41b8-9ffe-12493f8ceb36",
   "metadata": {},
   "source": [
    "### 2) Run the t-test, compute t, df, p, and 95% CI of mean difference"
   ]
  },
  {
   "cell_type": "code",
   "execution_count": 29,
   "id": "eda174b4-ff06-4044-a24d-87dceb723ee9",
   "metadata": {},
   "outputs": [
    {
     "name": "stdout",
     "output_type": "stream",
     "text": [
      "\n",
      "Independent-Samples t-Test Results:\n",
      "t-statistic: 0.2561\n",
      "p-value: 0.7979\n",
      "Cohen's d: 0.0066\n"
     ]
    }
   ],
   "source": [
    "# Determine whether to assume equal variances\n",
    "equal_var_assumption = (levene_test.pvalue >= 0.05)\n",
    "\n",
    "# Run the independent-samples t-test\n",
    "t_test_results = stats.ttest_ind(\n",
    "    group_a_post, group_b_post, equal_var=equal_var_assumption\n",
    ")\n",
    "\n",
    "# Calculate Cohen's d\n",
    "cohens_d = (group_a_post.mean() - group_b_post.mean()) / np.sqrt(\n",
    "    ((len(group_a_post) - 1) * group_a_post.var() + (len(group_b_post) - 1) * group_b_post.var()) /\n",
    "    (len(group_a_post) + len(group_b_post) - 2)\n",
    ")\n",
    "\n",
    "print(\"\\nIndependent-Samples t-Test Results:\")\n",
    "print(f\"t-statistic: {t_test_results.statistic:.4f}\")\n",
    "print(f\"p-value: {t_test_results.pvalue:.4f}\")\n",
    "print(f\"Cohen's d: {cohens_d:.4f}\")\n"
   ]
  },
  {
   "cell_type": "markdown",
   "id": "bd0330f5-faee-4ca0-bb1d-48e6d75d6d9c",
   "metadata": {},
   "source": [
    "From the test we found tha p_value (0.7979) is greater than 0.05, so we fail to reject the null hypothesis and conclude thath, There is no significant difference between the two groups and since the cohen's d test= 0.006 which is a small magnitude, it suggest that the difference has a very small effect."
   ]
  },
  {
   "cell_type": "markdown",
   "id": "90fdecad-b914-4a76-afdd-c3babeae6848",
   "metadata": {},
   "source": [
    "## Pre- vs. Post-Comparison Within Groups (Paired t-Test)\n",
    "### Purpose: \n",
    "This test is used to compare the means of the same group under two different conditions in this case, before and after a treatment."
   ]
  },
  {
   "cell_type": "code",
   "execution_count": 36,
   "id": "97908799-e2c3-4c0e-81b5-f42991ec75f5",
   "metadata": {},
   "outputs": [
    {
     "name": "stdout",
     "output_type": "stream",
     "text": [
      "\n",
      "Paired t-test for Group A (Pre vs. Post):\n",
      "p-value: 0.0000\n",
      "\n",
      "Paired t-test for Group B (Pre vs. Post):\n",
      "p-value: 0.0000\n"
     ]
    }
   ],
   "source": [
    "# Paired t-test for Group A (Pre_Test vs. Post_Test)\n",
    "paired_t_a = stats.ttest_rel(\n",
    "    df[df['Group'] == 'A']['Pre_Test_Score'],\n",
    "    df[df['Group'] == 'A']['Post_Test_Score']\n",
    ")\n",
    "print(\"\\nPaired t-test for Group A (Pre vs. Post):\")\n",
    "print(f\"p-value: {paired_t_a.pvalue:.4f}\")\n",
    "\n",
    "# Paired t-test for Group B (Pre_Test vs. Post_Test)\n",
    "paired_t_b = stats.ttest_rel(\n",
    "    df[df['Group'] == 'B']['Pre_Test_Score'],\n",
    "    df[df['Group'] == 'B']['Post_Test_Score']\n",
    ")\n",
    "print(\"\\nPaired t-test for Group B (Pre vs. Post):\")\n",
    "print(f\"p-value: {paired_t_b.pvalue:.4f}\")"
   ]
  },
  {
   "cell_type": "markdown",
   "id": "37cf0e97-8f6c-4530-8e3b-7079fce109aa",
   "metadata": {},
   "source": [
    "The p-value for both test are 0.00, which are less than 0.05, we therefor reject hte null hypothesis and we conclude that there is strong evidence to say thet the to groups differ from each other at CI =95%"
   ]
  },
  {
   "cell_type": "markdown",
   "id": "5d25cdc0-ec3c-4cd1-bcbb-246018f129a3",
   "metadata": {},
   "source": [
    "### C. Extended Explorations\n",
    "These analyses go beyond the core objective to explore additional relationships within the data.\n",
    "\n",
    "#### Demographic Influence (Gender Moderation)\n",
    "Purpose: This checks if the difference in Post_Test_Score between Group A and Group B is consistent across different genders. You do this by running separate t-tests for each gender subset."
   ]
  },
  {
   "cell_type": "code",
   "execution_count": 41,
   "id": "429e7527-9017-4aec-bd02-ed0d5d2be31f",
   "metadata": {},
   "outputs": [
    {
     "name": "stdout",
     "output_type": "stream",
     "text": [
      "\n",
      "Independent t-test for Males: 0.6420914155289351\n",
      "Independent t-test for Females: 0.9207419721376953\n"
     ]
    }
   ],
   "source": [
    "male_df = df[df['Gender'] == 'Male']\n",
    "female_df = df[df['Gender'] == 'Female']\n",
    "\n",
    "# Run t-test for male subset\n",
    "t_test_male = stats.ttest_ind(\n",
    "    male_df[male_df['Group'] == 'A']['Post_Test_Score'],\n",
    "    male_df[male_df['Group'] == 'B']['Post_Test_Score'],\n",
    "    equal_var=True\n",
    ")\n",
    "\n",
    "# Run t-test for female subset\n",
    "t_test_female = stats.ttest_ind(\n",
    "    female_df[female_df['Group'] == 'A']['Post_Test_Score'],\n",
    "    female_df[female_df['Group'] == 'B']['Post_Test_Score'],\n",
    "    equal_var=True\n",
    ")\n",
    "\n",
    "print(\"\\nIndependent t-test for Males:\", t_test_male.pvalue)\n",
    "print(\"Independent t-test for Females:\", t_test_female.pvalue)"
   ]
  },
  {
   "cell_type": "markdown",
   "id": "f7faea3f-9453-41f4-ab00-3f68238639e5",
   "metadata": {},
   "source": [
    "For males, the p-value is 0.6421. Since this is greater than 0.05, you fail to reject the null hypothesis. This suggests there is no statistically significant difference in the mean Post_Test_Score between Group A and Group B for the male participants.\n",
    "\n",
    "For females, the p-value is 0.9207. Similarly, because this value is greater than 0.05, you fail to reject the null hypothesis. This indicates there is also no statistically significant difference in the mean Post_Test_Score between Group A and Group B for the female participants.\n",
    "\n",
    "In both subsets, the gender of the participant does not appear to moderate the difference in Post_Test_Score between the two groups."
   ]
  },
  {
   "cell_type": "markdown",
   "id": "4a331848-e3dd-484b-a4fd-b2bd0e9ad298",
   "metadata": {},
   "source": [
    "### Study Habits (Correlation)\n",
    "#### Purpose:\n",
    "Correlation analysis measures the strength and direction of a linear relationship between two continuous variables, in this case, Study_Hours and Post_Test_Score.\n",
    "\n",
    "#### How to interpret:\n",
    "\n",
    "A value of r=1 indicates a perfect positive linear relationship.\n",
    "\n",
    "A value of r=−1 indicates a perfect negative linear relationship.\n",
    "\n",
    "A value of r=0 indicates no linear relationship."
   ]
  },
  {
   "cell_type": "code",
   "execution_count": 45,
   "id": "e61224f9-8e91-4ba4-8043-476676c19934",
   "metadata": {},
   "outputs": [
    {
     "name": "stdout",
     "output_type": "stream",
     "text": [
      "\n",
      "Pearson Correlation Matrix:\n",
      "                 Study_Hours  Post_Test_Score\n",
      "Study_Hours         1.000000         0.017334\n",
      "Post_Test_Score     0.017334         1.000000\n"
     ]
    }
   ],
   "source": [
    "correlation = df[['Study_Hours', 'Post_Test_Score']].corr(method='pearson')\n",
    "print(\"\\nPearson Correlation Matrix:\")\n",
    "print(correlation)"
   ]
  },
  {
   "cell_type": "markdown",
   "id": "29e2d64c-90fb-4eb2-a61d-17c69d6360a8",
   "metadata": {},
   "source": [
    "This value is very close to zero, which indicates a very weak positive linear relationship between the two variables. In practical terms, this suggests that there is no meaningful correlation between the number of hours a participant studied and their score on the post-test. Increasing or decreasing study hours does not appear to have a predictable effect on the post-test score based on this dataset."
   ]
  },
  {
   "cell_type": "markdown",
   "id": "740385ad-cb6e-48c5-ab04-535480660cd8",
   "metadata": {},
   "source": [
    "### Attendance Effects\n",
    "#### Purpose: \n",
    "This is another independent-samples t-test, but this time comparing Attendance_Rate between Group A and Group B to see if there's a significant difference."
   ]
  },
  {
   "cell_type": "code",
   "execution_count": 49,
   "id": "503fb478-f75b-4a30-af4c-f54fbf6ecf70",
   "metadata": {},
   "outputs": [
    {
     "name": "stdout",
     "output_type": "stream",
     "text": [
      "\n",
      "Independent t-test for Attendance_Rate:\n",
      "t-statistic: 1.2195, p-value: 0.2227\n"
     ]
    }
   ],
   "source": [
    "t_test_attendance = stats.ttest_ind(\n",
    "    df[df['Group'] == 'A']['Attendance_Rate'],\n",
    "    df[df['Group'] == 'B']['Attendance_Rate'],\n",
    "    equal_var=True\n",
    ")\n",
    "print(\"\\nIndependent t-test for Attendance_Rate:\")\n",
    "print(f\"t-statistic: {t_test_attendance.statistic:.4f}, p-value: {t_test_attendance.pvalue:.4f}\")"
   ]
  },
  {
   "cell_type": "markdown",
   "id": "713e8b21-e88c-47e1-871c-43726553ccf4",
   "metadata": {},
   "source": [
    "The p-value is 0.2227. Since this value is greater than the standard significance level of 0.05, you fail to reject the null hypothesis.\n",
    "This means there is no statistically significant difference in the mean Attendance_Rate between Group A and Group B."
   ]
  },
  {
   "cell_type": "code",
   "execution_count": null,
   "id": "f88af670-a4dc-46c2-b802-93ae22f3a72c",
   "metadata": {},
   "outputs": [],
   "source": []
  }
 ],
 "metadata": {
  "kernelspec": {
   "display_name": "Python [conda env:base] *",
   "language": "python",
   "name": "conda-base-py"
  },
  "language_info": {
   "codemirror_mode": {
    "name": "ipython",
    "version": 3
   },
   "file_extension": ".py",
   "mimetype": "text/x-python",
   "name": "python",
   "nbconvert_exporter": "python",
   "pygments_lexer": "ipython3",
   "version": "3.12.7"
  }
 },
 "nbformat": 4,
 "nbformat_minor": 5
}
